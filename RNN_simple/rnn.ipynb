{
 "cells": [
  {
   "cell_type": "code",
   "execution_count": 1,
   "id": "0f9bb656-8835-43c1-ba9f-22aafc0b18b9",
   "metadata": {},
   "outputs": [],
   "source": [
    "import torch\n",
    "from torch import nn\n",
    "import numpy as np"
   ]
  },
  {
   "cell_type": "code",
   "execution_count": 2,
   "id": "3387e0b6-778f-4220-8d05-bfb8d1997dff",
   "metadata": {},
   "outputs": [],
   "source": [
    "text = ['hey how are you','good i am fine','have a nice day']\n",
    "\n",
    "# Join all the sentences together and extract the unique characters from the combined sentences\n",
    "chars = set(''.join(text))\n",
    "\n",
    "# Creating a dictionary that maps integers to the characters\n",
    "int2char = dict(enumerate(chars))\n",
    "\n",
    "# Creating another dictionary that maps characters to integers\n",
    "char2int = {char: ind for ind, char in int2char.items()}"
   ]
  },
  {
   "cell_type": "code",
   "execution_count": 4,
   "id": "b89de391-1bfd-4b87-851a-3c42b54441da",
   "metadata": {},
   "outputs": [
    {
     "data": {
      "text/plain": [
       "{0: 'u',\n",
       " 1: 'n',\n",
       " 2: 'v',\n",
       " 3: 'c',\n",
       " 4: 'o',\n",
       " 5: 'i',\n",
       " 6: 'a',\n",
       " 7: 'h',\n",
       " 8: 'e',\n",
       " 9: 'f',\n",
       " 10: 'w',\n",
       " 11: 'r',\n",
       " 12: 'd',\n",
       " 13: 'm',\n",
       " 14: ' ',\n",
       " 15: 'g',\n",
       " 16: 'y'}"
      ]
     },
     "execution_count": 4,
     "metadata": {},
     "output_type": "execute_result"
    }
   ],
   "source": [
    "int2char"
   ]
  },
  {
   "cell_type": "code",
   "execution_count": 5,
   "id": "ca887380-c69c-491a-b922-cc3132b8879d",
   "metadata": {},
   "outputs": [
    {
     "data": {
      "text/plain": [
       "{'u': 0,\n",
       " 'n': 1,\n",
       " 'v': 2,\n",
       " 'c': 3,\n",
       " 'o': 4,\n",
       " 'i': 5,\n",
       " 'a': 6,\n",
       " 'h': 7,\n",
       " 'e': 8,\n",
       " 'f': 9,\n",
       " 'w': 10,\n",
       " 'r': 11,\n",
       " 'd': 12,\n",
       " 'm': 13,\n",
       " ' ': 14,\n",
       " 'g': 15,\n",
       " 'y': 16}"
      ]
     },
     "execution_count": 5,
     "metadata": {},
     "output_type": "execute_result"
    }
   ],
   "source": [
    "char2int"
   ]
  },
  {
   "cell_type": "code",
   "execution_count": 6,
   "id": "1ca4e4fa-25b1-4477-8bf2-09f7442b68f0",
   "metadata": {},
   "outputs": [
    {
     "name": "stdout",
     "output_type": "stream",
     "text": [
      "The longest string has 15 characters\n"
     ]
    }
   ],
   "source": [
    "maxlen = len(max(text, key=len))\n",
    "print(\"The longest string has {} characters\".format(maxlen))"
   ]
  },
  {
   "cell_type": "code",
   "execution_count": 7,
   "id": "e9eb594d-8671-4d7d-91ec-b72a597f478c",
   "metadata": {},
   "outputs": [],
   "source": [
    "# Padding\n",
    "\n",
    "# A simple loop that loops through the list of sentences and adds a ' ' whitespace until the length of the sentence matches\n",
    "# the length of the longest sentence\n",
    "for i in range(len(text)):\n",
    "    while len(text[i])<maxlen:\n",
    "        text[i] += ' '"
   ]
  },
  {
   "cell_type": "code",
   "execution_count": 8,
   "id": "0928f879-3a7b-45d7-8596-6eaf9ebda61b",
   "metadata": {},
   "outputs": [
    {
     "data": {
      "text/plain": [
       "['hey how are you', 'good i am fine ', 'have a nice day']"
      ]
     },
     "execution_count": 8,
     "metadata": {},
     "output_type": "execute_result"
    }
   ],
   "source": [
    "text"
   ]
  },
  {
   "cell_type": "code",
   "execution_count": 10,
   "id": "a3b957d3-d828-4978-9bb6-da1ffbdec8c0",
   "metadata": {},
   "outputs": [
    {
     "name": "stdout",
     "output_type": "stream",
     "text": [
      "Input Sequence: hey how are yo\n",
      "Target Sequence: ey how are you\n",
      "Input Sequence: good i am fine\n",
      "Target Sequence: ood i am fine \n",
      "Input Sequence: have a nice da\n",
      "Target Sequence: ave a nice day\n"
     ]
    }
   ],
   "source": [
    "# Creating lists that will hold our input and target sequences\n",
    "input_seq = []\n",
    "target_seq = []\n",
    "\n",
    "for i in range(len(text)):\n",
    "    # Remove last character for input sequence\n",
    "    input_seq.append(text[i][:-1])\n",
    "    \n",
    "    # Remove firsts character for target sequence\n",
    "    target_seq.append(text[i][1:])\n",
    "    print(\"Input Sequence: {}\\nTarget Sequence: {}\".format(input_seq[i], target_seq[i]))"
   ]
  },
  {
   "cell_type": "code",
   "execution_count": 11,
   "id": "b350bdcc-8b6b-4211-b196-aff0d373fa22",
   "metadata": {},
   "outputs": [],
   "source": [
    "for i in range(len(text)):\n",
    "    input_seq[i] = [char2int[character] for character in input_seq[i]]\n",
    "    target_seq[i] = [char2int[character] for character in target_seq[i]]"
   ]
  },
  {
   "cell_type": "code",
   "execution_count": 15,
   "id": "6766fa5c-947f-498e-a288-1027756cebf4",
   "metadata": {},
   "outputs": [
    {
     "data": {
      "text/plain": [
       "[[7, 8, 16, 14, 7, 4, 10, 14, 6, 11, 8, 14, 16, 4],\n",
       " [15, 4, 4, 12, 14, 5, 14, 6, 13, 14, 9, 5, 1, 8],\n",
       " [7, 6, 2, 8, 14, 6, 14, 1, 5, 3, 8, 14, 12, 6]]"
      ]
     },
     "execution_count": 15,
     "metadata": {},
     "output_type": "execute_result"
    }
   ],
   "source": [
    "input_seq"
   ]
  },
  {
   "cell_type": "code",
   "execution_count": 13,
   "id": "dd89dc9c-c42a-4b75-beff-36814197895d",
   "metadata": {},
   "outputs": [
    {
     "data": {
      "text/plain": [
       "[[8, 16, 14, 7, 4, 10, 14, 6, 11, 8, 14, 16, 4, 0],\n",
       " [4, 4, 12, 14, 5, 14, 6, 13, 14, 9, 5, 1, 8, 14],\n",
       " [6, 2, 8, 14, 6, 14, 1, 5, 3, 8, 14, 12, 6, 16]]"
      ]
     },
     "execution_count": 13,
     "metadata": {},
     "output_type": "execute_result"
    }
   ],
   "source": [
    "target_seq"
   ]
  },
  {
   "cell_type": "code",
   "execution_count": 14,
   "id": "95d4e1ad-9048-4ccc-9c3c-4c53eb150bec",
   "metadata": {},
   "outputs": [],
   "source": [
    "dict_size = len(char2int)\n",
    "seq_len = maxlen - 1\n",
    "batch_size = len(text)\n",
    "\n",
    "def one_hot_encode(sequence, dict_size, seq_len, batch_size):\n",
    "    # Creating a multi-dimensional array of zeros with the desired output shape\n",
    "    features = np.zeros((batch_size, seq_len, dict_size), dtype=np.float32)\n",
    "    \n",
    "    # Replacing the 0 at the relevant character index with a 1 to represent that character\n",
    "    for i in range(batch_size):\n",
    "        for u in range(seq_len):\n",
    "            features[i, u, sequence[i][u]] = 1\n",
    "    return features"
   ]
  },
  {
   "cell_type": "code",
   "execution_count": 16,
   "id": "40dcbfb9-6e35-4bbf-9779-c5ad133d260b",
   "metadata": {},
   "outputs": [
    {
     "name": "stdout",
     "output_type": "stream",
     "text": [
      "Input shape: (3, 14, 17) --> (Batch Size, Sequence Length, One-Hot Encoding Size)\n"
     ]
    }
   ],
   "source": [
    "input_seq = one_hot_encode(input_seq, dict_size, seq_len, batch_size)\n",
    "print(\"Input shape: {} --> (Batch Size, Sequence Length, One-Hot Encoding Size)\".format(input_seq.shape))"
   ]
  },
  {
   "cell_type": "code",
   "execution_count": 20,
   "id": "a7d05da9-7bc3-4d96-ba45-b75c9def3b3a",
   "metadata": {},
   "outputs": [
    {
     "data": {
      "text/plain": [
       "[[8, 16, 14, 7, 4, 10, 14, 6, 11, 8, 14, 16, 4, 0],\n",
       " [4, 4, 12, 14, 5, 14, 6, 13, 14, 9, 5, 1, 8, 14],\n",
       " [6, 2, 8, 14, 6, 14, 1, 5, 3, 8, 14, 12, 6, 16]]"
      ]
     },
     "execution_count": 20,
     "metadata": {},
     "output_type": "execute_result"
    }
   ],
   "source": [
    "target_seq"
   ]
  },
  {
   "cell_type": "code",
   "execution_count": 21,
   "id": "bb768d84-85bf-4378-8faf-f9a36b426669",
   "metadata": {},
   "outputs": [],
   "source": [
    "input_seq = torch.from_numpy(input_seq)\n",
    "target_seq = torch.Tensor(target_seq)"
   ]
  },
  {
   "cell_type": "code",
   "execution_count": 23,
   "id": "e4ae84ec-faa8-4f26-850c-5e317e6d2e79",
   "metadata": {},
   "outputs": [
    {
     "data": {
      "text/plain": [
       "tensor([[ 8., 16., 14.,  7.,  4., 10., 14.,  6., 11.,  8., 14., 16.,  4.,  0.],\n",
       "        [ 4.,  4., 12., 14.,  5., 14.,  6., 13., 14.,  9.,  5.,  1.,  8., 14.],\n",
       "        [ 6.,  2.,  8., 14.,  6., 14.,  1.,  5.,  3.,  8., 14., 12.,  6., 16.]])"
      ]
     },
     "execution_count": 23,
     "metadata": {},
     "output_type": "execute_result"
    }
   ],
   "source": [
    "target_seq"
   ]
  },
  {
   "cell_type": "code",
   "execution_count": 24,
   "id": "533970f7-f4f2-4ff7-9064-7e092ecea90e",
   "metadata": {},
   "outputs": [
    {
     "name": "stdout",
     "output_type": "stream",
     "text": [
      "GPU not available, CPU used\n"
     ]
    }
   ],
   "source": [
    "# torch.cuda.is_available() checks and returns a Boolean True if a GPU is available, else it'll return False\n",
    "is_cuda = torch.cuda.is_available()\n",
    "\n",
    "# If we have a GPU available, we'll set our device to GPU. We'll use this device variable later in our code.\n",
    "if is_cuda:\n",
    "    device = torch.device(\"cuda\")\n",
    "    print(\"GPU is available\")\n",
    "else:\n",
    "    device = torch.device(\"cpu\")\n",
    "    print(\"GPU not available, CPU used\")"
   ]
  },
  {
   "cell_type": "code",
   "execution_count": null,
   "id": "c1d1fe71-e42b-4af1-bd23-a11631b474e9",
   "metadata": {},
   "outputs": [],
   "source": [
    "class Model(nn.Module):\n",
    "    def __init__(self, input_size, output_size, hidden_dim, n_layers):\n",
    "        super(Model, self).__init__()\n",
    "\n",
    "        # Defining some parameters\n",
    "        self.hidden_dim = hidden_dim\n",
    "        self.n_layers = n_layers\n",
    "\n",
    "        #Defining the layers\n",
    "        # RNN Layer\n",
    "        self.rnn = nn.RNN(input_size, hidden_dim, n_layers, batch_first=True)   \n",
    "        # Fully connected layer\n",
    "        self.fc = nn.Linear(hidden_dim, output_size)\n",
    "    \n",
    "    def forward(self, x):\n",
    "        \n",
    "        batch_size = x.size(0)\n",
    "\n",
    "        #Initializing hidden state for first input using method defined below\n",
    "        hidden = self.init_hidden(batch_size)\n",
    "\n",
    "        # Passing in the input and hidden state into the model and obtaining outputs\n",
    "        out, hidden = self.rnn(x, hidden)\n",
    "        \n",
    "        # Reshaping the outputs such that it can be fit into the fully connected layer\n",
    "        out = out.contiguous().view(-1, self.hidden_dim)\n",
    "        out = self.fc(out)\n",
    "        \n",
    "        return out, hidden\n",
    "    \n",
    "    def init_hidden(self, batch_size):\n",
    "        # This method generates the first hidden state of zeros which we'll use in the forward pass\n",
    "        hidden = torch.zeros(self.n_layers, batch_size, self.hidden_dim).to(device)\n",
    "         # We'll send the tensor holding the hidden state to the device we specified earlier as well\n",
    "        return hidden"
   ]
  }
 ],
 "metadata": {
  "kernelspec": {
   "display_name": "Python 3 (ipykernel)",
   "language": "python",
   "name": "python3"
  },
  "language_info": {
   "codemirror_mode": {
    "name": "ipython",
    "version": 3
   },
   "file_extension": ".py",
   "mimetype": "text/x-python",
   "name": "python",
   "nbconvert_exporter": "python",
   "pygments_lexer": "ipython3",
   "version": "3.10.13"
  }
 },
 "nbformat": 4,
 "nbformat_minor": 5
}
