{
 "cells": [
  {
   "cell_type": "code",
   "execution_count": 1,
   "id": "48568c99-0407-49d9-9770-4aaa21a6e6f7",
   "metadata": {},
   "outputs": [
    {
     "name": "stdout",
     "output_type": "stream",
     "text": [
      "Using 'cpu' device\n"
     ]
    }
   ],
   "source": [
    "\"\"\"\n",
    "RNN character generator\n",
    "\n",
    "RNN implementation with Dense layers\n",
    "\n",
    "There is an RNN layer in pytorch, but in this case we will be using\n",
    "normal Dense layers to demonstrate the difference between\n",
    "RNN and Normal feedforward networks.\n",
    "\n",
    "This is a character level generator, which means it will create character by character\n",
    "\n",
    "You can input any text file and it will generate characters based on that text\n",
    "\"\"\"\n",
    "import torch\n",
    "import torch.nn as nn\n",
    "import torch.optim as optim\n",
    "from torch.utils.data import Dataset, DataLoader\n",
    "import numpy as np\n",
    "import random\n",
    "\n",
    "device = \"cuda\" if torch.cuda.is_available() else \"cpu\"\n",
    "print(f\"Using '{device}' device\")\n",
    "\n",
    "\"\"\"\n",
    "Data preparation\n",
    "\"\"\"\n",
    "class TextDataset(Dataset):\n",
    "    \"\"\"\n",
    "    Text Dataset\n",
    "\n",
    "    Text Dataset Class\n",
    "    \n",
    "    This class is in charge of managing text data as vectors\n",
    "    Data is saved as vectors (not as text)\n",
    "\n",
    "    Attributes\n",
    "    ----------\n",
    "    seq_length - int: Sequence length\n",
    "    chars - list(str): List of characters\n",
    "    char_to_idx - dict: dictionary from character to index\n",
    "    idx_to_char - dict: dictionary from index to character\n",
    "    vocab_size - int: Vocabulary size\n",
    "    data_size - int: total length of the text\n",
    "    \"\"\"\n",
    "    def __init__(self, text_data: str, seq_length: int = 25) -> None:\n",
    "        \"\"\"\n",
    "        Inputs\n",
    "        ------\n",
    "        text_data: Full text data as string\n",
    "        seq_length: sequence length. How many characters per index of the dataset.\n",
    "        \"\"\"\n",
    "        self.chars = sorted(list(set(text_data)))\n",
    "        self.data_size, self.vocab_size = len(text_data), len(self.chars)\n",
    "        # useful way to fetch characters either by index or char\n",
    "        self.idx_to_char = {i:ch for i, ch in enumerate(self.chars)}\n",
    "        self.char_to_idx = {ch:i for i, ch in enumerate(self.chars)}\n",
    "        self.seq_length = seq_length\n",
    "        self.X = self.string_to_vector(text_data)\n",
    "    \n",
    "    @property\n",
    "    def X_string(self) -> str:\n",
    "        \"\"\"\n",
    "        Returns X in string form\n",
    "        \"\"\"\n",
    "        return self.vector_to_string(self.X)\n",
    "        \n",
    "    def __len__(self) -> int:\n",
    "        \"\"\"\n",
    "        We remove the last sequence to avoid conflicts with Y being shifted to the left\n",
    "        This causes our model to never see the last sequence of text\n",
    "        which is not a huge deal, but its something to be aware of\n",
    "        \"\"\"\n",
    "        return int(len(self.X) / self.seq_length -1)\n",
    "\n",
    "    def __getitem__(self, index) -> tuple[torch.Tensor, torch.Tensor]:\n",
    "        \"\"\"\n",
    "        X and Y have the same shape, but Y is shifted left 1 position\n",
    "        \"\"\"\n",
    "        start_idx = index * self.seq_length\n",
    "        end_idx = (index + 1) * self.seq_length\n",
    "\n",
    "        X = torch.tensor(self.X[start_idx:end_idx]).float()\n",
    "        y = torch.tensor(self.X[start_idx+1:end_idx+1]).float()\n",
    "        return X, y\n",
    "    \n",
    "    def string_to_vector(self, name: str) -> list[int]:\n",
    "        \"\"\"\n",
    "        Converts a string into a 1D vector with values from char_to_idx dictionary\n",
    "\n",
    "        Inputs\n",
    "        name: Name as string\n",
    "\n",
    "        Outputs\n",
    "        name_tensor: name represented as list of integers (1D vector)\n",
    "\n",
    "        sample:\n",
    "        >>> string_to_vector('test')\n",
    "        [20, 5, 19, 20]\n",
    "        \"\"\"\n",
    "        vector = list()\n",
    "        for s in name:\n",
    "            vector.append(self.char_to_idx[s])\n",
    "        return vector\n",
    "\n",
    "    def vector_to_string(self, vector: list[int]) -> str:\n",
    "        \"\"\"\n",
    "        Converts a 1D vector into a string with values from idx_to_char dictionary\n",
    "\n",
    "        Inputs\n",
    "        vector: 1D vector with values in the range of idx_to_char\n",
    "\n",
    "        Outputs\n",
    "        vector_string: Vector converted to string\n",
    "\n",
    "        sample:\n",
    "        >>> vector_to_string([20, 5, 19, 20])\n",
    "        'test'\n",
    "        \"\"\"\n",
    "        vector_string = \"\"\n",
    "        for i in vector:\n",
    "            vector_string += self.idx_to_char[i]\n",
    "        return vector_string\n",
    "    \n",
    "    def tensor_to_string(self, vector: torch.Tensor) -> str:\n",
    "        \"\"\"\n",
    "        Converts a 1D vector into a string with values from idx_to_char dictionary\n",
    "        Inputs\n",
    "        vector: 1D vector with values in the range of idx_to_char\n",
    "        Outputs\n",
    "        vector_string: Vector converted to string\n",
    "        sample:\n",
    "        >>> tensor_to_string([ 1., 37., 37., 33., 28.,  0.,  0.,  0.,  0.,  0.])\n",
    "        'Apple     '\n",
    "        \"\"\"\n",
    "        vector_string = \"\"\n",
    "        for i in vector:\n",
    "            vector_string += self.idx_to_char[int(i.item())]\n",
    "        return vector_string\n",
    "\n",
    "\"\"\"\n",
    "Model definition\n",
    "\"\"\"\n",
    "class RNN(nn.Module):\n",
    "    \"\"\"\n",
    "    Basic RNN block. This represents a single layer of RNN\n",
    "    \"\"\"\n",
    "    def __init__(self, input_size: int, hidden_size: int, output_size: int) -> None:\n",
    "        \"\"\"\n",
    "        input_size: Number of features of your input vector\n",
    "        hidden_size: Number of hidden neurons\n",
    "        output_size: Number of features of your output vector\n",
    "        \"\"\"\n",
    "        super().__init__()\n",
    "        self.input_size = input_size\n",
    "        self.hidden_size = hidden_size\n",
    "        self.output_size = output_size\n",
    "        self.batch_size = batch_size\n",
    "\n",
    "        self.i2h = nn.Linear(input_size, hidden_size, bias=False)\n",
    "        self.h2h = nn.Linear(hidden_size, hidden_size)\n",
    "        self.h2o = nn.Linear(hidden_size, output_size)\n",
    "\n",
    "    \n",
    "    def forward(self, x, hidden_state) -> tuple[torch.Tensor, torch.Tensor]:\n",
    "        \"\"\"\n",
    "        Returns softmax(linear_out) and tanh(i2h + i2o)\n",
    "\n",
    "        Inputs\n",
    "        ------\n",
    "        x: Input vector x  with shape (vocab_size, )\n",
    "        hidden_state: Hidden state matrix\n",
    "\n",
    "        Outputs\n",
    "        -------\n",
    "        out: Prediction vector\n",
    "        hidden_state: New hidden state matrix\n",
    "        \"\"\"\n",
    "        x = self.i2h(x)\n",
    "        hidden_state = self.h2h(hidden_state)\n",
    "        hidden_state = torch.tanh(x + hidden_state)\n",
    "        return self.h2o(hidden_state), hidden_state\n",
    "        \n",
    "\n",
    "    def init_zero_hidden(self, batch_size=1) -> torch.Tensor:\n",
    "        \"\"\"\n",
    "        Returns a hidden state with specified batch size. Defaults to 1\n",
    "        \"\"\"\n",
    "        return torch.zeros(batch_size, self.hidden_size, requires_grad=False)\n",
    "\n",
    "\n",
    "def generate_text(model: RNN, dataset: TextDataset, prediction_length: int = 100) -> str:\n",
    "    \"\"\"\n",
    "    Generate text up to prediction_length characters\n",
    "\n",
    "    This function requires the dataset as argument in order to properly\n",
    "    generate the text and return the output as strings\n",
    "    \"\"\"\n",
    "    model.eval()\n",
    "    predicted = dataset.vector_to_string([random.randint(0, len(dataset.chars) -1)])\n",
    "    hidden = model.init_zero_hidden()\n",
    "\n",
    "    for i in range(prediction_length - 1):\n",
    "        last_char = torch.Tensor([dataset.char_to_idx[predicted[-1]]])\n",
    "        X, hidden = last_char.to(device), hidden.to(device)\n",
    "        out, hidden = model(X, hidden)\n",
    "        result = torch.multinomial(nn.functional.softmax(out, 1), 1).item()\n",
    "        #result = out.argmax().item()\n",
    "        predicted += dataset.idx_to_char[result]\n",
    "\n",
    "    return predicted\n",
    "\n",
    "\n",
    "\n",
    "def train(model: RNN, data: DataLoader, epochs: int, optimizer: optim.Optimizer, loss_fn: nn.Module) -> None:\n",
    "    \"\"\"\n",
    "    Trains the model for the specified number of epochs\n",
    "\n",
    "    Inputs\n",
    "    ------\n",
    "    model: RNN model to train\n",
    "    data: Iterable DataLoader\n",
    "    epochs: Number of epochs to train the model\n",
    "    optiimizer: Optimizer to use for each epoch\n",
    "    loss_fn: Function to calculate loss\n",
    "    \"\"\"\n",
    "    train_losses = {}\n",
    "    model.to(device)\n",
    "    \n",
    "    model.train()\n",
    "    print(\"=> Starting training\")\n",
    "    for epoch in range(epochs):\n",
    "        epoch_losses = list()\n",
    "        for X, Y in data:\n",
    "            # skip batch if it doesnt match with the batch_size\n",
    "            if X.shape[0] != model.batch_size:\n",
    "                continue\n",
    "            hidden = model.init_zero_hidden(batch_size=model.batch_size)\n",
    "\n",
    "            # send tensors to device\n",
    "            X, Y, hidden = X.to(device), Y.to(device), hidden.to(device)\n",
    "\n",
    "            # 2. clear gradients\n",
    "            model.zero_grad()\n",
    "\n",
    "            loss = 0\n",
    "            for c in range(X.shape[1]):\n",
    "                out, hidden = model(X[:, c].reshape(X.shape[0],1), hidden)\n",
    "                l = loss_fn(out, Y[:, c].long())\n",
    "                loss += l\n",
    "\n",
    "            # 4. Compte gradients gradients\n",
    "            loss.backward()\n",
    "\n",
    "            # 5. Adjust learnable parameters\n",
    "            # clip as well to avoid vanishing and exploding gradients\n",
    "            nn.utils.clip_grad_norm_(model.parameters(), 3)\n",
    "            optimizer.step()\n",
    "        \n",
    "            epoch_losses.append(loss.detach().item() / X.shape[1])\n",
    "\n",
    "        train_losses[epoch] = torch.tensor(epoch_losses).mean()\n",
    "        print(f'=> epoch: {epoch + 1}, loss: {train_losses[epoch]}')\n",
    "        print(generate_text(model, data.dataset))"
   ]
  },
  {
   "cell_type": "code",
   "execution_count": null,
   "id": "b5418852-061d-4a85-a08c-a331b1518d58",
   "metadata": {},
   "outputs": [],
   "source": [
    "data = open('dinos.txt', 'r').read() # use any text file you want to learn\n",
    "data = data.lower()\n",
    "\n",
    "# Data size variables\n",
    "seq_length = 25\n",
    "batch_size = 64\n",
    "hidden_size = 256\n",
    "\n",
    "text_dataset = TextDataset(data, seq_length=seq_length)\n",
    "text_dataloader = DataLoader(text_dataset, batch_size)"
   ]
  },
  {
   "cell_type": "code",
   "execution_count": null,
   "id": "da342e6d-a320-494c-bd13-e31e892a83c0",
   "metadata": {},
   "outputs": [],
   "source": [
    "# Model\n",
    "rnnModel = RNN(1, hidden_size, len(text_dataset.chars)) # 1 because we enter a single number/letter per step.\n",
    "\n",
    "# Train variables\n",
    "epochs = 1000\n",
    "loss = nn.CrossEntropyLoss()\n",
    "optimizer = optim.RMSprop(rnnModel.parameters(), lr = 0.001)\n",
    "\n",
    "\n",
    "train_flag = False\n",
    "if train_flag:\n",
    "    train(rnnModel, text_dataloader, epochs, optimizer, loss)\n",
    "\n",
    "    # Save model\n",
    "    torch.save(obj=rnnModel.state_dict(), f=\"character_generator.pth\")"
   ]
  },
  {
   "cell_type": "code",
   "execution_count": 5,
   "id": "5df4ddb9-88bc-4eb2-b30c-ea4ab18e1c48",
   "metadata": {},
   "outputs": [
    {
     "data": {
      "text/plain": [
       "<All keys matched successfully>"
      ]
     },
     "execution_count": 5,
     "metadata": {},
     "output_type": "execute_result"
    }
   ],
   "source": [
    "# load model\n",
    "rnnModel_1 = RNN(1, hidden_size, len(text_dataset.chars)) # 1 because we enter a single number/letter per step.\n",
    "rnnModel_1.load_state_dict(torch.load(\"character_generator.pth\"))"
   ]
  },
  {
   "cell_type": "code",
   "execution_count": 9,
   "id": "907e5fbe-3ba2-4c33-8ec7-9a95d90f1c86",
   "metadata": {},
   "outputs": [
    {
     "data": {
      "text/plain": [
       "'pnessus\\npy'"
      ]
     },
     "execution_count": 9,
     "metadata": {},
     "output_type": "execute_result"
    }
   ],
   "source": [
    "generate_text(rnnModel, text_dataset, 10)"
   ]
  },
  {
   "cell_type": "code",
   "execution_count": 21,
   "id": "dd5bca02-9e5c-4119-9ca5-9aa298ea9327",
   "metadata": {},
   "outputs": [
    {
     "name": "stdout",
     "output_type": "stream",
     "text": [
      "21\n",
      "u\n"
     ]
    }
   ],
   "source": [
    "dataset = text_dataset\n",
    "random_number = random.randint(0, len(dataset.chars) -1)\n",
    "predicted = dataset.vector_to_string([random_number])\n",
    "prediction_length = 5\n",
    "\n",
    "print(random_number)\n",
    "print(predicted)"
   ]
  },
  {
   "cell_type": "code",
   "execution_count": 20,
   "id": "c02d8c0c-2fe9-4303-a842-51d109cebc6b",
   "metadata": {},
   "outputs": [
    {
     "name": "stdout",
     "output_type": "stream",
     "text": [
      "tensor([2.])\n",
      "tensor([19.])\n",
      "tensor([25.])\n",
      "tensor([1.])\n"
     ]
    }
   ],
   "source": [
    "hidden = rnnModel_1.init_zero_hidden()\n",
    "\n",
    "for i in range(prediction_length - 1):\n",
    "    last_char = torch.Tensor([dataset.char_to_idx[predicted[-1]]])\n",
    "    X, hidden = last_char.to(device), hidden.to(device)\n",
    "    out, hidden = rnnModel_1(X, hidden)\n",
    "    result = torch.multinomial(nn.functional.softmax(out, 1), 1).item()\n",
    "    #result = out.argmax().item()\n",
    "    predicted += dataset.idx_to_char[result]"
   ]
  },
  {
   "cell_type": "code",
   "execution_count": 22,
   "id": "352ef465-b7f7-4c59-9fe2-8e183299376c",
   "metadata": {},
   "outputs": [],
   "source": [
    "hidden = rnnModel_1.init_zero_hidden()\n",
    "last_char = torch.Tensor([dataset.char_to_idx[predicted[-1]]])\n",
    "X, hidden = last_char.to(device), hidden.to(device)\n",
    "out, hidden = rnnModel_1(X, hidden)"
   ]
  },
  {
   "cell_type": "code",
   "execution_count": 25,
   "id": "11c19618-2a35-4849-a6d7-2cab34c92f45",
   "metadata": {},
   "outputs": [
    {
     "data": {
      "text/plain": [
       "tensor([[ 4.2042,  3.9022,  0.2018,  1.8110,  1.7373,  2.6594, -3.2513,  1.7514,\n",
       "          2.4163,  2.1409, -1.4546, -0.1499,  1.5654,  1.6167,  1.8707,  3.3987,\n",
       "          1.8094, -3.8087,  3.7929,  3.8485,  1.5879,  3.6045, -0.2249, -3.5661,\n",
       "         -0.4328,  0.8765, -1.9199]], grad_fn=<AddmmBackward0>)"
      ]
     },
     "execution_count": 25,
     "metadata": {},
     "output_type": "execute_result"
    }
   ],
   "source": [
    "out"
   ]
  },
  {
   "cell_type": "code",
   "execution_count": 39,
   "id": "91523225-4235-4d8a-b0b8-cb12af01cecd",
   "metadata": {},
   "outputs": [
    {
     "data": {
      "text/plain": [
       "1"
      ]
     },
     "execution_count": 39,
     "metadata": {},
     "output_type": "execute_result"
    }
   ],
   "source": [
    "torch.multinomial(nn.functional.softmax(out, 1), 1).item()"
   ]
  },
  {
   "cell_type": "code",
   "execution_count": 36,
   "id": "fb9558c5-0848-4bec-a905-ead6d338a695",
   "metadata": {},
   "outputs": [],
   "source": [
    "result = torch.multinomial(nn.functional.softmax(out, 1), 1).item()\n",
    "#result = out.argmax().item()\n",
    "predicted += dataset.idx_to_char[result]"
   ]
  },
  {
   "cell_type": "code",
   "execution_count": null,
   "id": "eb5e9286-4f07-445d-a7f1-e1a7acbab99f",
   "metadata": {},
   "outputs": [],
   "source": []
  }
 ],
 "metadata": {
  "kernelspec": {
   "display_name": "Python 3 (ipykernel)",
   "language": "python",
   "name": "python3"
  },
  "language_info": {
   "codemirror_mode": {
    "name": "ipython",
    "version": 3
   },
   "file_extension": ".py",
   "mimetype": "text/x-python",
   "name": "python",
   "nbconvert_exporter": "python",
   "pygments_lexer": "ipython3",
   "version": "3.10.13"
  }
 },
 "nbformat": 4,
 "nbformat_minor": 5
}
